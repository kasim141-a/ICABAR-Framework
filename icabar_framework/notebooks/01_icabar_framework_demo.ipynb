{
 "cells": [
  {
   "cell_type": "markdown",
   "metadata": {},
   "source": [
    "# ICABAR Framework Demo\n",
    "\n",
    "This notebook demonstrates how to use the ICABAR Framework for generating personalized and context-aware recommendations.\n",
    "\n",
    "## Overview\n",
    "\n",
    "The ICABAR (Intelligent Context-Aware Behaviour Analytics Recommender) Framework integrates:\n",
    "- User Behaviour Analytics\n",
    "- Context-Aware Computing\n",
    "- Ensemble Integration Methods\n",
    "\n",
    "## Setup"
   ]
  },
  {
   "cell_type": "code",
   "execution_count": null,
   "metadata": {},
   "outputs": [],
   "source": [
    "import pandas as pd\n",
    "import numpy as np\n",
    "from datetime import datetime\n",
    "import sys\n",
    "sys.path.append('../')\n",
    "\n",
    "from icabar.main import ICABARFramework"
   ]
  },
  {
   "cell_type": "markdown",
   "metadata": {},
   "source": [
    "## Sample Data Generation\n",
    "\n",
    "For demonstration purposes, we'll create a synthetic dataset that mimics the structure expected by the framework."
   ]
  },
  {
   "cell_type": "code",
   "execution_count": null,
   "metadata": {},
   "outputs": [],
   "source": [
    "# Generate sample data\n",
    "np.random.seed(42)\n",
    "n_users = 100\n",
    "n_items = 50\n",
    "n_interactions = 1000\n",
    "\n",
    "sample_data = pd.DataFrame({\n",
    "    'user_id': np.random.choice([f'user_{i}' for i in range(n_users)], n_interactions),\n",
    "    'item_id': np.random.choice([f'item_{i}' for i in range(n_items)], n_interactions),\n",
    "    'rating': np.random.randint(1, 6, n_interactions),\n",
    "    'timestamp': pd.date_range('2023-01-01', periods=n_interactions, freq='H'),\n",
    "    'review_text': ['Great product!' if np.random.random() > 0.5 else 'Could be better.' for _ in range(n_interactions)],\n",
    "    'helpful_votes': np.random.randint(0, 20, n_interactions),\n",
    "    'verified_purchase': np.random.choice([True, False], n_interactions, p=[0.8, 0.2])\n",
    "})\n",
    "\n",
    "print(f\"Generated {len(sample_data)} interactions for {sample_data['user_id'].nunique()} users and {sample_data['item_id'].nunique()} items\")\n",
    "sample_data.head()"
   ]
  },
  {
   "cell_type": "markdown",
   "metadata": {},
   "source": [
    "## Framework Initialization and Training"
   ]
  },
  {
   "cell_type": "code",
   "execution_count": null,
   "metadata": {},
   "outputs": [],
   "source": [
    "# Initialize the ICABAR Framework\n",
    "framework = ICABARFramework()\n",
    "\n",
    "# Train the framework\n",
    "framework.train(sample_data)"
   ]
  },
  {
   "cell_type": "markdown",
   "metadata": {},
   "source": [
    "## Generate Recommendations"
   ]
  },
  {
   "cell_type": "code",
   "execution_count": null,
   "metadata": {},
   "outputs": [],
   "source": [
    "# Generate recommendations for a specific user\n",
    "user_id = 'user_0'\n",
    "current_time = pd.Timestamp('2023-06-15 14:30:00')\n",
    "\n",
    "recommendations = framework.predict(\n",
    "    user_id=user_id,\n",
    "    timestamp=current_time,\n",
    "    num_recommendations=10\n",
    ")\n",
    "\n",
    "print(f\"Recommendations for {user_id}:\")\n",
    "for i, item in enumerate(recommendations, 1):\n",
    "    print(f\"{i}. {item}\")"
   ]
  },
  {
   "cell_type": "markdown",
   "metadata": {},
   "source": [
    "## Framework Performance Analysis\n",
    "\n",
    "In a real-world scenario, you would evaluate the framework's performance using metrics like precision, recall, and diversity."
   ]
  },
  {
   "cell_type": "code",
   "execution_count": null,
   "metadata": {},
   "outputs": [],
   "source": [
    "# Example: Generate recommendations for multiple users\n",
    "test_users = sample_data['user_id'].unique()[:5]\n",
    "\n",
    "for user in test_users:\n",
    "    recs = framework.predict(user, current_time, num_recommendations=5)\n",
    "    print(f\"{user}: {recs}\")"
   ]
  }
 ],
 "metadata": {
  "kernelspec": {
   "display_name": "Python 3",
   "language": "python",
   "name": "python3"
  },
  "language_info": {
   "codemirror_mode": {
    "name": "ipython",
    "version": 3
   },
   "file_extension": ".py",
   "mimetype": "text/x-python",
   "name": "python",
   "nbconvert_exporter": "python",
   "pygments_lexer": "ipython3",
   "version": "3.8.10"
  }
 },
 "nbformat": 4,
 "nbformat_minor": 4
}
